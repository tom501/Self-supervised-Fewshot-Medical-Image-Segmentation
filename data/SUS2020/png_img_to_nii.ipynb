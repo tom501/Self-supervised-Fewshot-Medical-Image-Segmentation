{
 "cells": [
  {
   "cell_type": "markdown",
   "metadata": {},
   "source": [
    "## Converting images from png to nii file\n",
    "\n",
    "\n",
    "### Overview\n",
    "\n",
    "This is step 0 for data preparation\n",
    "\n",
    "Input: images in `.png` format\n",
    "\n",
    "Output: images in `.nii` format, indexed by patient id"
   ]
  },
  {
   "cell_type": "code",
   "execution_count": 13,
   "metadata": {},
   "outputs": [
    {
     "name": "stdout",
     "output_type": "stream",
     "text": [
      "Once deleted, variables cannot be recovered. Proceed (y/[n])? y\n",
      "The autoreload extension is already loaded. To reload it, use:\n",
      "  %reload_ext autoreload\n"
     ]
    }
   ],
   "source": [
    "import os\n",
    "import glob\n",
    "\n",
    "import numpy as np\n",
    "import PIL\n",
    "import matplotlib.pyplot as plt\n",
    "import SimpleITK as sitk\n",
    "import sys\n",
    "sys.path.insert(0, '../../dataloaders/')\n",
    "import niftiio as nio\n",
    "import nibabel as nib"
   ]
  },
  {
   "cell_type": "code",
   "execution_count": null,
   "metadata": {},
   "outputs": [],
   "source": []
  },
  {
   "cell_type": "code",
   "execution_count": 14,
   "metadata": {},
   "outputs": [],
   "source": [
    "example = \"/home/prosjekt/PerfusionCT/StrokeSUS/COMBINED/FINAL_Najm_v21-0.5/CTP_01_001/01/01.tiff\" # example of ground-truth file"
   ]
  },
  {
   "cell_type": "code",
   "execution_count": 15,
   "metadata": {},
   "outputs": [],
   "source": [
    "### search for scan ids\n",
    "ids = os.listdir(\"/home/prosjekt/PerfusionCT/StrokeSUS/COMBINED/FINAL_Najm_v21-0.5/\")\n",
    "OUT_DIR = './niis/SUS2020/'"
   ]
  },
  {
   "cell_type": "code",
   "execution_count": 16,
   "metadata": {},
   "outputs": [
    {
     "data": {
      "text/plain": [
       "['37',\n",
       " '3',\n",
       " '15',\n",
       " '34',\n",
       " '33',\n",
       " '39',\n",
       " '20',\n",
       " '10',\n",
       " '22',\n",
       " '8',\n",
       " '31',\n",
       " '2',\n",
       " '36',\n",
       " '5',\n",
       " '13',\n",
       " '19',\n",
       " '21',\n",
       " '1',\n",
       " '38',\n",
       " '32']"
      ]
     },
     "execution_count": 16,
     "metadata": {},
     "output_type": "execute_result"
    }
   ],
   "source": [
    "print(ids)"
   ]
  },
  {
   "cell_type": "code",
   "execution_count": 17,
   "metadata": {},
   "outputs": [
    {
     "name": "stdout",
     "output_type": "stream",
     "text": [
      "image with id 37 has been saved!\n",
      "image with id 3 has been saved!\n",
      "image with id 15 has been saved!\n",
      "image with id 34 has been saved!\n",
      "image with id 33 has been saved!\n",
      "image with id 39 has been saved!\n",
      "image with id 20 has been saved!\n",
      "image with id 10 has been saved!\n",
      "image with id 22 has been saved!\n",
      "image with id 8 has been saved!\n",
      "image with id 31 has been saved!\n",
      "image with id 2 has been saved!\n",
      "image with id 36 has been saved!\n",
      "image with id 5 has been saved!\n",
      "image with id 13 has been saved!\n",
      "image with id 19 has been saved!\n",
      "image with id 21 has been saved!\n",
      "image with id 1 has been saved!\n",
      "image with id 38 has been saved!\n",
      "image with id 32 has been saved!\n"
     ]
    }
   ],
   "source": [
    "#### Write them to nii files for the ease of loading in future\n",
    "for curr_id in ids:\n",
    "    timefold = glob.glob(f'/home/prosjekt/PerfusionCT/StrokeSUS/COMBINED/FINAL_Najm_v21-0.5/{curr_id}/*')\n",
    "    timefold = sorted(timefold, key = lambda x: int(os.path.basename(x)))\n",
    "    study = []\n",
    "    \n",
    "    for curr_f in timefold:\n",
    "        buffer = []\n",
    "        tiffs = glob.glob(f'{curr_f}/*.tiff')\n",
    "        tiffs = sorted(tiffs, key = lambda x: int(os.path.basename(x).split(\".tiff\")[0]))\n",
    "        for fid in tiffs: buffer.append(PIL.Image.open(fid))\n",
    "        study.append(buffer)\n",
    "    vol = np.stack(study, axis = 0)\n",
    "    # remap values\n",
    "#     for new_val, old_val in enumerate(sorted(np.unique(vol))): vol[vol == old_val] = new_val\n",
    "\n",
    "    # get reference    \n",
    "    vol_o = nib.Nifti1Image(vol, None)\n",
    "    sitk.WriteImage(vol_o, f'{OUT_DIR}/study_{curr_id}.nii.gz')\n",
    "    print(f'Study with id {curr_id} has been saved!')\n",
    "\n",
    "    "
   ]
  },
  {
   "cell_type": "code",
   "execution_count": null,
   "metadata": {},
   "outputs": [],
   "source": []
  }
 ],
 "metadata": {
  "kernelspec": {
   "display_name": "Python 3",
   "language": "python",
   "name": "python3"
  },
  "language_info": {
   "codemirror_mode": {
    "name": "ipython",
    "version": 3
   },
   "file_extension": ".py",
   "mimetype": "text/x-python",
   "name": "python",
   "nbconvert_exporter": "python",
   "pygments_lexer": "ipython3",
   "version": "3.7.4"
  }
 },
 "nbformat": 4,
 "nbformat_minor": 2
}
